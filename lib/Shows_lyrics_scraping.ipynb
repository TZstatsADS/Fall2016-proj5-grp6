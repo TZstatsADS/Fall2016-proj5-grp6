{
 "cells": [
  {
   "cell_type": "code",
   "execution_count": 33,
   "metadata": {
    "collapsed": true
   },
   "outputs": [],
   "source": [
    "from bs4 import BeautifulSoup\n",
    "import requests\n",
    "import pandas as pd\n",
    "import math\n",
    "\n",
    "\n",
    "def scrape_shows(link):\n",
    "    r = requests.get(link)\n",
    "    soup = BeautifulSoup(r.text,\"html.parser\")\n",
    "    shows = soup.find_all(\"li\")[2:35]\n",
    "    \n",
    "    shows_data = []\n",
    "    for row in shows:\n",
    "        shows_data.append(row.find_all(\"a\")[0].text.strip())\n",
    "    return shows_data"
   ]
  },
  {
   "cell_type": "code",
   "execution_count": 34,
   "metadata": {
    "collapsed": false,
    "scrolled": true
   },
   "outputs": [],
   "source": [
    "link = \"https://www.ibdb.com\"\n",
    "showlist = scrape_shows(link)"
   ]
  },
  {
   "cell_type": "code",
   "execution_count": 35,
   "metadata": {
    "collapsed": false,
    "scrolled": true
   },
   "outputs": [
    {
     "data": {
      "text/plain": [
       "['A Bronx Tale The Musical',\n",
       " 'Aladdin',\n",
       " 'Beautiful The Carole King Musical',\n",
       " 'Cats',\n",
       " 'Chicago',\n",
       " 'Cirque du Soleil Paramour',\n",
       " 'Dear Evan Hansen',\n",
       " 'Falsettos',\n",
       " 'Fiddler on the Roof',\n",
       " 'Hamilton',\n",
       " 'Heisenberg',\n",
       " 'Holiday Inn, The New Irving Berlin Musical',\n",
       " 'In Transit',\n",
       " 'Jersey Boys',\n",
       " 'Kinky Boots',\n",
       " 'Les Liaisons Dangereuses',\n",
       " 'Matilda The Musical',\n",
       " 'Natasha, Pierre & The Great Comet of 1812',\n",
       " 'Oh, Hello on Broadway',\n",
       " 'On Your Feet!',\n",
       " 'School of Rock – The Musical',\n",
       " 'Something Rotten!',\n",
       " 'The Book of Mormon',\n",
       " 'The Cherry Orchard',\n",
       " 'The Color Purple',\n",
       " 'The Encounter',\n",
       " 'The Front Page',\n",
       " 'The Humans',\n",
       " 'The Illusionists - Turn of the Century',\n",
       " 'The Lion King',\n",
       " 'The Phantom of the Opera',\n",
       " 'Waitress',\n",
       " 'Wicked']"
      ]
     },
     "execution_count": 35,
     "metadata": {},
     "output_type": "execute_result"
    }
   ],
   "source": [
    "showlist"
   ]
  },
  {
   "cell_type": "code",
   "execution_count": 77,
   "metadata": {
    "collapsed": true
   },
   "outputs": [],
   "source": [
    "import re\n",
    "shows_links = {}\n",
    "for show in showlist:\n",
    "    name = re.sub('[^A-Za-z0-9]+', '', show).lower()\n",
    "    if name[0:3] == \"the\":\n",
    "        name = name[3:]+name[0:3]\n",
    "        \n",
    "    l = \"https://www.allmusicals.com/{}/{}.htm\".format(name[0],name)\n",
    "    shows_links[show] = l"
   ]
  },
  {
   "cell_type": "code",
   "execution_count": 78,
   "metadata": {
    "collapsed": false
   },
   "outputs": [
    {
     "data": {
      "text/plain": [
       "{'A Bronx Tale The Musical': 'https://www.allmusicals.com/a/abronxtalethemusical.htm',\n",
       " 'Aladdin': 'https://www.allmusicals.com/a/aladdin.htm',\n",
       " 'Beautiful The Carole King Musical': 'https://www.allmusicals.com/b/beautifulthecarolekingmusical.htm',\n",
       " 'Cats': 'https://www.allmusicals.com/c/cats.htm',\n",
       " 'Chicago': 'https://www.allmusicals.com/c/chicago.htm',\n",
       " 'Cirque du Soleil Paramour': 'https://www.allmusicals.com/c/cirquedusoleilparamour.htm',\n",
       " 'Dear Evan Hansen': 'https://www.allmusicals.com/d/dearevanhansen.htm',\n",
       " 'Falsettos': 'https://www.allmusicals.com/f/falsettos.htm',\n",
       " 'Fiddler on the Roof': 'https://www.allmusicals.com/f/fiddlerontheroof.htm',\n",
       " 'Hamilton': 'https://www.allmusicals.com/h/hamilton.htm',\n",
       " 'Heisenberg': 'https://www.allmusicals.com/h/heisenberg.htm',\n",
       " 'Holiday Inn, The New Irving Berlin Musical': 'https://www.allmusicals.com/h/holidayinnthenewirvingberlinmusical.htm',\n",
       " 'In Transit': 'https://www.allmusicals.com/i/intransit.htm',\n",
       " 'Jersey Boys': 'https://www.allmusicals.com/j/jerseyboys.htm',\n",
       " 'Kinky Boots': 'https://www.allmusicals.com/k/kinkyboots.htm',\n",
       " 'Les Liaisons Dangereuses': 'https://www.allmusicals.com/l/lesliaisonsdangereuses.htm',\n",
       " 'Matilda The Musical': 'https://www.allmusicals.com/m/matildathemusical.htm',\n",
       " 'Natasha, Pierre & The Great Comet of 1812': 'https://www.allmusicals.com/n/natashapierrethegreatcometof1812.htm',\n",
       " 'Oh, Hello on Broadway': 'https://www.allmusicals.com/o/ohhelloonbroadway.htm',\n",
       " 'On Your Feet!': 'https://www.allmusicals.com/o/onyourfeet.htm',\n",
       " 'School of Rock – The Musical': 'https://www.allmusicals.com/s/schoolofrockthemusical.htm',\n",
       " 'Something Rotten!': 'https://www.allmusicals.com/s/somethingrotten.htm',\n",
       " 'The Book of Mormon': 'https://www.allmusicals.com/b/bookofmormonthe.htm',\n",
       " 'The Cherry Orchard': 'https://www.allmusicals.com/c/cherryorchardthe.htm',\n",
       " 'The Color Purple': 'https://www.allmusicals.com/c/colorpurplethe.htm',\n",
       " 'The Encounter': 'https://www.allmusicals.com/e/encounterthe.htm',\n",
       " 'The Front Page': 'https://www.allmusicals.com/f/frontpagethe.htm',\n",
       " 'The Humans': 'https://www.allmusicals.com/h/humansthe.htm',\n",
       " 'The Illusionists - Turn of the Century': 'https://www.allmusicals.com/i/illusioniststurnofthecenturythe.htm',\n",
       " 'The Lion King': 'https://www.allmusicals.com/l/lionkingthe.htm',\n",
       " 'The Phantom of the Opera': 'https://www.allmusicals.com/p/phantomoftheoperathe.htm',\n",
       " 'Waitress': 'https://www.allmusicals.com/w/waitress.htm',\n",
       " 'Wicked': 'https://www.allmusicals.com/w/wicked.htm'}"
      ]
     },
     "execution_count": 78,
     "metadata": {},
     "output_type": "execute_result"
    }
   ],
   "source": [
    "shows_links"
   ]
  },
  {
   "cell_type": "code",
   "execution_count": 79,
   "metadata": {
    "collapsed": false,
    "scrolled": true
   },
   "outputs": [],
   "source": [
    "shows_links[\"Beautiful The Carole King Musical\"]='https://www.allmusicals.com/b/beautifulthecaroleking.htm'\n",
    "shows_links[\"The Lion King\"]='https://www.allmusicals.com/l/lionking.htm'\n",
    "shows_links[\"Matilda The Musical\"] = 'https://www.allmusicals.com/m/matilda.htm'\n",
    "shows_links[\"Natasha, Pierre & The Great Comet of 1812\"] = 'https://www.allmusicals.com/n/natashapierreandthegreatcometof1812.htm'\n",
    "shows_links[\"School of Rock – The Musical\"] = 'https://www.allmusicals.com/s/schoolofrock.htm'"
   ]
  },
  {
   "cell_type": "code",
   "execution_count": 153,
   "metadata": {
    "collapsed": false
   },
   "outputs": [],
   "source": [
    "def scrape_lyrics_links(show_name):\n",
    "    show_link = shows_links[show_name]\n",
    "    if show_link is None:\n",
    "        print(show_name +\" has no lyrics\")\n",
    "        return False\n",
    "    r = requests.get(show_link)\n",
    "    soup = BeautifulSoup(r.text,\"html.parser\")\n",
    "    \n",
    "    try:\n",
    "        table = soup.find(\"section\",class_=\"lyrics-list\")\n",
    "        lyrics = table.find_all(\"a\")\n",
    "    \n",
    "        lyrics_data = []\n",
    "        for row in lyrics:\n",
    "            lyrics_link = row[\"href\"]\n",
    "            lyrics_data.append(lyrics_link)\n",
    "        return lyrics_data\n",
    "    \n",
    "    except (AttributeError, IndexError):\n",
    "        print(show_name+\" has no lyrics\")\n",
    "        return False\n",
    "    except ValueError:\n",
    "        print(show_name+\" has no lyrics\")\n",
    "        return False\n",
    "\n",
    "    \n",
    "def scrape_lyrics_each(lyrics_link):\n",
    "    try:\n",
    "        r = requests.get(lyrics_link)\n",
    "        soup = BeautifulSoup(r.text,\"html.parser\")\n",
    "        table = soup.find(\"div\", class_ = \"span8 lyrics-content-main-text\")\n",
    "        content = table.find_all(\"div\")[3].get_text()\n",
    "        return content\n",
    "    except (AttributeError, IndexError):\n",
    "        return False\n",
    "    except (ValueError,NameError):\n",
    "        return False\n",
    "\n",
    "\n",
    "def scrape_show_lyrics(show_name):\n",
    "    lyrics_links = scrape_lyrics_links(show_name)\n",
    "    if lyrics_links != False:\n",
    "        filename = \"{}.txt\".format(show_name)\n",
    "        with open(filename, \"w\") as f:\n",
    "            for link in lyrics_links:\n",
    "                if scrape_lyrics_each(link) != False:\n",
    "                    content = scrape_lyrics_each(link)\n",
    "                    f.write(content)\n",
    "        return show_name\n",
    "    else:\n",
    "        return False\n",
    "    \n",
    "def scrape_all_shows_lyrics(showlist):\n",
    "    c = 0\n",
    "    for showname in showlist:\n",
    "        if scrape_lyrics_links(showname) != False:\n",
    "            scrape_show_lyrics(showname)\n",
    "            c += 1\n",
    "    print(\"Done!\")\n",
    "    print(str(c) +\" shows with valid lyrics\")\n",
    "    "
   ]
  },
  {
   "cell_type": "code",
   "execution_count": 154,
   "metadata": {
    "collapsed": false,
    "scrolled": false
   },
   "outputs": [
    {
     "name": "stdout",
     "output_type": "stream",
     "text": [
      "A Bronx Tale The Musical has no lyrics\n",
      "Cirque du Soleil Paramour has no lyrics\n",
      "Heisenberg has no lyrics\n",
      "Holiday Inn, The New Irving Berlin Musical has no lyrics\n",
      "In Transit has no lyrics\n",
      "Les Liaisons Dangereuses has no lyrics\n",
      "Oh, Hello on Broadway has no lyrics\n",
      "The Cherry Orchard has no lyrics\n",
      "The Encounter has no lyrics\n",
      "The Front Page has no lyrics\n",
      "The Humans has no lyrics\n",
      "The Illusionists - Turn of the Century has no lyrics\n",
      "Done!\n"
     ]
    },
    {
     "ename": "TypeError",
     "evalue": "unsupported operand type(s) for +: 'int' and 'str'",
     "output_type": "error",
     "traceback": [
      "\u001b[0;31m---------------------------------------------------------------------------\u001b[0m",
      "\u001b[0;31mTypeError\u001b[0m                                 Traceback (most recent call last)",
      "\u001b[0;32m<ipython-input-154-d631f730649e>\u001b[0m in \u001b[0;36m<module>\u001b[0;34m()\u001b[0m\n\u001b[0;32m----> 1\u001b[0;31m \u001b[0mscrape_all_shows_lyrics\u001b[0m\u001b[0;34m(\u001b[0m\u001b[0mshowlist\u001b[0m\u001b[0;34m)\u001b[0m\u001b[0;34m\u001b[0m\u001b[0m\n\u001b[0m",
      "\u001b[0;32m<ipython-input-153-15f65b8ffbb9>\u001b[0m in \u001b[0;36mscrape_all_shows_lyrics\u001b[0;34m(showlist)\u001b[0m\n\u001b[1;32m     58\u001b[0m             \u001b[0mc\u001b[0m \u001b[0;34m+=\u001b[0m \u001b[0;36m1\u001b[0m\u001b[0;34m\u001b[0m\u001b[0m\n\u001b[1;32m     59\u001b[0m     \u001b[0mprint\u001b[0m\u001b[0;34m(\u001b[0m\u001b[0;34m\"Done!\"\u001b[0m\u001b[0;34m)\u001b[0m\u001b[0;34m\u001b[0m\u001b[0m\n\u001b[0;32m---> 60\u001b[0;31m     \u001b[0mprint\u001b[0m\u001b[0;34m(\u001b[0m\u001b[0mc\u001b[0m \u001b[0;34m+\u001b[0m\u001b[0;34m\" shows with valid lyrics\"\u001b[0m\u001b[0;34m)\u001b[0m\u001b[0;34m\u001b[0m\u001b[0m\n\u001b[0m\u001b[1;32m     61\u001b[0m \u001b[0;34m\u001b[0m\u001b[0m\n",
      "\u001b[0;31mTypeError\u001b[0m: unsupported operand type(s) for +: 'int' and 'str'"
     ]
    }
   ],
   "source": [
    "scrape_all_shows_lyrics(showlist)"
   ]
  },
  {
   "cell_type": "code",
   "execution_count": null,
   "metadata": {
    "collapsed": true
   },
   "outputs": [],
   "source": []
  }
 ],
 "metadata": {
  "kernelspec": {
   "display_name": "Python 3",
   "language": "python",
   "name": "python3"
  },
  "language_info": {
   "codemirror_mode": {
    "name": "ipython",
    "version": 3
   },
   "file_extension": ".py",
   "mimetype": "text/x-python",
   "name": "python",
   "nbconvert_exporter": "python",
   "pygments_lexer": "ipython3",
   "version": "3.5.2"
  }
 },
 "nbformat": 4,
 "nbformat_minor": 1
}
