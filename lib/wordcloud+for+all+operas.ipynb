{
 "cells": [
  {
   "cell_type": "code",
   "execution_count": 1,
   "metadata": {
    "collapsed": false
   },
   "outputs": [],
   "source": [
    "import numpy as np\n",
    "from os import path\n",
    "from PIL import Image\n",
    "import matplotlib.pyplot as plt\n",
    "import nltk\n",
    "from scipy.misc import imread\n",
    "import string \n",
    "from stop_words import get_stop_words\n",
    "#nltk.download('punkt')\n",
    "from wordcloud import WordCloud, STOPWORDS,ImageColorGenerator\n",
    "from nltk.corpus import stopwords\n",
    "import glob\n",
    "\n",
    "\n"
   ]
  },
  {
   "cell_type": "code",
   "execution_count": 2,
   "metadata": {
    "collapsed": true
   },
   "outputs": [],
   "source": [
    "files = glob.glob(\"/Users/Ruby/Desktop/project5/data/synopsis/*.txt\")\n",
    "booktext = [[] for i in range(len(files))]\n",
    "script_noStop = [[] for i in range(len(files))]\n",
    "word_cloud = [[] for i in range(len(files))]\n",
    "\n",
    "#images = glob.glob(\"/Users/Ruby/Desktop/project5/data/images/*.jpg\")\n",
    "#shape = [[] for i in range(len(images))]\n",
    "#image_colors = [[] for i in range(len(images))]\n",
    "\n",
    "#for i in range(len(images)):\n",
    " #   shape[i] = imread(images[i])\n",
    "  #  #mage_colors[i] = ImageColorGenerator(shape[i])\n",
    "\n",
    "\n"
   ]
  },
  {
   "cell_type": "code",
   "execution_count": 3,
   "metadata": {
    "collapsed": false
   },
   "outputs": [],
   "source": [
    "for i in range(len(files)):\n",
    "    with open (files[i],\"r\") as f:\n",
    "        line=f.readlines()     \n",
    "    for sent in line:\n",
    "        booktext[i].append(sent.lower().decode(\"utf8\"))\n",
    "    \n",
    "               \n",
    "               \n",
    "               \n",
    "    for j in range(len(booktext[i])):\n",
    "        for c in string.punctuation:\n",
    "            booktext[i][j]= booktext[i][j].replace(c,\" \")  \n",
    "    \n",
    "    stop_words = get_stop_words('en')\n",
    "    stop_words = get_stop_words('english')\n",
    "    \n",
    "    #script_noStop = [[] for k in range(len(booktext[i]))]\n",
    "    \n",
    "    #for m in range(len(booktext[i])):\n",
    "               \n",
    "    for sent in booktext[i]:\n",
    "        words = sent.split()\n",
    "        if not words in ([], ['']):\n",
    "            sen = \" \".join([w for w in words if not w in stop_words])\n",
    "            # print([sen])\n",
    "            script_noStop[i].append(sen)\n",
    "    script_noStop[i] = \"\\n\".join(script_noStop[i])\n",
    "    #script_noStop[i] = script_noStop\n",
    "           \n",
    "    \n",
    "    with open(\"/Users/Ruby/Desktop/project5/data/lyrics/script_nonStop[i].txt\", \"wb\") as f:\n",
    "        f.write(script_noStop[i].encode(\"utf8\"))\n",
    "    text = open(path.join( \"/Users/Ruby/Desktop/project5/data/lyrics/script_nonStop[i].txt\")).read()\n",
    "    \n",
    "    #images = glob.glob(\"/Users/Ruby/Desktop/project5/data/images/*.jpg\")\n",
    "    #for image in images:\n",
    "    #shape[i] = imread(images[i])\n",
    "    #image_colors[i] = ImageColorGenerator(shape[i])\n",
    "    # read the mask image\n",
    "# taken from\n",
    "# http://www.stencilry.org/stencils/movies/alice%20in%20wonderland/255fk.jpg\n",
    "    #alice_mask = np.array(Image.open(path.join(d, \"alice_mask.png\")))\n",
    "\n",
    "    alice= imread(path.join(\"/Users/Ruby/Desktop/alice.jpg\"))\n",
    "    girl = imread(path.join(\"/Users/Ruby/Desktop/queen.jpg\"))\n",
    "    image_colors = ImageColorGenerator(girl)\n",
    "    wc = WordCloud(background_color=\"white\", max_words=2000, mask=alice,ranks_only=True)\n",
    "    # generate word cloud\n",
    "    wc.generate(text)\n",
    "    wc.recolor(color_func=image_colors)\n",
    "    word_cloud[i] = wc\n",
    "    #wc.to_file(path.join( \"/Users/Ruby/Desktop/cat_cloud.png\"))\n",
    "\n"
   ]
  },
  {
   "cell_type": "code",
   "execution_count": 4,
   "metadata": {
    "collapsed": false
   },
   "outputs": [],
   "source": [
    "i= 1\n",
    "for wc in word_cloud:\n",
    "    wc.to_file(path.join( \"/Users/Ruby/Desktop/word_cloud2/wc%s.png\" % (i)))\n",
    "    i = i + 1"
   ]
  },
  {
   "cell_type": "code",
   "execution_count": 18,
   "metadata": {
    "collapsed": false
   },
   "outputs": [],
   "source": [
    "# show\n",
    "plt.imshow(word_cloud[2].recolor(color_func=image_colors))\n",
    "plt.axis(\"off\")\n",
    "plt.figure()\n",
    "plt.imshow(shape, cmap=plt.cm.gray)\n",
    "plt.axis(\"off\")\n",
    "plt.show()"
   ]
  },
  {
   "cell_type": "code",
   "execution_count": 2,
   "metadata": {
    "collapsed": false
   },
   "outputs": [
    {
     "data": {
      "text/plain": [
       "21"
      ]
     },
     "execution_count": 2,
     "metadata": {},
     "output_type": "execute_result"
    }
   ],
   "source": [
    "import glob\n",
    "images = glob.glob(\"/Users/Ruby/Desktop/project5/data/images/*.jpg\")\n",
    "len(images)"
   ]
  },
  {
   "cell_type": "code",
   "execution_count": 3,
   "metadata": {
    "collapsed": false
   },
   "outputs": [
    {
     "data": {
      "text/plain": [
       "22"
      ]
     },
     "execution_count": 3,
     "metadata": {},
     "output_type": "execute_result"
    }
   ],
   "source": [
    "files = glob.glob(\"/Users/Ruby/Desktop/project5/data/lyrics/*.txt\")\n",
    "len(files)"
   ]
  },
  {
   "cell_type": "code",
   "execution_count": null,
   "metadata": {
    "collapsed": true
   },
   "outputs": [],
   "source": []
  }
 ],
 "metadata": {
  "kernelspec": {
   "display_name": "Python 2",
   "language": "python",
   "name": "python2"
  },
  "language_info": {
   "codemirror_mode": {
    "name": "ipython",
    "version": 2
   },
   "file_extension": ".py",
   "mimetype": "text/x-python",
   "name": "python",
   "nbconvert_exporter": "python",
   "pygments_lexer": "ipython2",
   "version": "2.7.12"
  }
 },
 "nbformat": 4,
 "nbformat_minor": 1
}
