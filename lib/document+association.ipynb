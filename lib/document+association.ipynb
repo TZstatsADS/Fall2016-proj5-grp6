{
 "cells": [
  {
   "cell_type": "code",
   "execution_count": 5,
   "metadata": {
    "collapsed": true
   },
   "outputs": [],
   "source": [
    "import os\n",
    "import matplotlib.pyplot as plt\n",
    "from sklearn.manifold import MDS\n",
    "import numpy as np\n",
    "from sklearn.feature_extraction.text import CountVectorizer\n",
    "import glob\n",
    "from sklearn.metrics.pairwise import euclidean_distances\n",
    "filenames = glob.glob(\"/Users/Ruby/Desktop/project5/data/reviews/*.txt\")\n",
    "vectorizer = CountVectorizer(input='filenames')\n",
    "dtm = vectorizer.fit_transform(filenames)  # a sparse matrix\n",
    "vocab = vectorizer.get_feature_names()  # a list\n",
    "dtm = dtm.toarray()\n",
    "vocab = np.array(vocab)\n",
    "n, _ = dtm.shape\n",
    "dist = np.zeros((n, n))\n",
    "for i in range(n):\n",
    "    for j in range(n):\n",
    "        x, y = dtm[i, :], dtm[j, :]\n",
    "        dist[i, j] = np.sqrt(np.sum((x - y)**2))\n",
    "from sklearn.metrics.pairwise import euclidean_distances\n",
    "dist = euclidean_distances(dtm)\n",
    "#np.round(dist, 1)\n",
    "from sklearn.metrics.pairwise import cosine_similarity\n",
    "dist = 1 - cosine_similarity(dtm)\n",
    "#np.round(dist, 2)\n",
    "mds = MDS(n_components=2, dissimilarity=\"precomputed\", random_state=1)\n",
    "pos = mds.fit_transform(dist)  # shape (n_components, n_sample\n",
    "xs, ys = pos[:, 0], pos[:, 1]\n",
    "names = [os.path.basename(fn).replace('.txt', '') for fn in filenames]\n",
    "for x, y, name in zip(xs, ys, names):\n",
    "    color = 'orange' if \"Austen\" in name else 'skyblue'\n",
    "    plt.scatter(x, y, c=color)\n",
    "    plt.text(x, y, name)\n",
    "plt.show()\n",
    "dist1 = pd.DataFrame(dist, index = np.arange(443))\n",
    "dist1.to_csv('/Users/Ruby/Desktop/dist.csv', sep=',')"
   ]
  },
  {
   "cell_type": "code",
   "execution_count": 9,
   "metadata": {
    "collapsed": false
   },
   "outputs": [],
   "source": []
  },
  {
   "cell_type": "code",
   "execution_count": 44,
   "metadata": {
    "collapsed": false
   },
   "outputs": [],
   "source": []
  },
  {
   "cell_type": "code",
   "execution_count": null,
   "metadata": {
    "collapsed": true
   },
   "outputs": [],
   "source": []
  }
 ],
 "metadata": {
  "kernelspec": {
   "display_name": "Python 2",
   "language": "python",
   "name": "python2"
  },
  "language_info": {
   "codemirror_mode": {
    "name": "ipython",
    "version": 2
   },
   "file_extension": ".py",
   "mimetype": "text/x-python",
   "name": "python",
   "nbconvert_exporter": "python",
   "pygments_lexer": "ipython2",
   "version": "2.7.12"
  }
 },
 "nbformat": 4,
 "nbformat_minor": 1
}
